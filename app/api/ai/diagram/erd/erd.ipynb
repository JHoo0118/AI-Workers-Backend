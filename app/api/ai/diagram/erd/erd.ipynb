{
 "cells": [
  {
   "cell_type": "code",
   "execution_count": 3,
   "metadata": {},
   "outputs": [
    {
     "data": {
      "text/plain": [
       "<Response [200]>"
      ]
     },
     "execution_count": 3,
     "metadata": {},
     "output_type": "execute_result"
    }
   ],
   "source": [
    "import requests\n",
    "from dotenv import load_dotenv\n",
    "\n",
    "load_dotenv()\n",
    "\n",
    "inputs = {\n",
    "  \"query\": \"\"\"// Example 1:\n",
    "CREATE TABLE Student_info(\n",
    "\tCollege_Id number(2),\n",
    "\tCollege_name varchar(30),\n",
    "\tBranch varchar(10)\n",
    ");\n",
    "\n",
    " // Example 2:\n",
    "SELECT Emp_Id, Emp_Salary FROM Employee;\n",
    "\n",
    "Example 3:\n",
    "INSERT INTO Student (Stu_id, Stu_Name, Stu_Marks, Stu_Age) VALUES (104, Anmol, 89, 19);\n",
    "\"\"\"\n",
    "}\n",
    "response = requests.post(\"http://localhost:8000/api/ai/diagram/erd/generate\", json=inputs)\n",
    "\n",
    "response"
   ]
  }
 ],
 "metadata": {
  "kernelspec": {
   "display_name": "env",
   "language": "python",
   "name": "python3"
  },
  "language_info": {
   "codemirror_mode": {
    "name": "ipython",
    "version": 3
   },
   "file_extension": ".py",
   "mimetype": "text/x-python",
   "name": "python",
   "nbconvert_exporter": "python",
   "pygments_lexer": "ipython3",
   "version": "3.11.5"
  }
 },
 "nbformat": 4,
 "nbformat_minor": 2
}
