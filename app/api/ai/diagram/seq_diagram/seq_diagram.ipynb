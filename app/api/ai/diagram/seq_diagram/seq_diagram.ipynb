{
 "cells": [
  {
   "cell_type": "code",
   "execution_count": 20,
   "metadata": {},
   "outputs": [
    {
     "data": {
      "text/plain": [
       "<Response [200]>"
      ]
     },
     "execution_count": 20,
     "metadata": {},
     "output_type": "execute_result"
    }
   ],
   "source": [
    "import requests\n",
    "from dotenv import load_dotenv\n",
    "\n",
    "load_dotenv()\n",
    "\n",
    "inputs = {\n",
    "    \"request\": \"Client는 Authorization Server에 Access Token을 요청합니다. 이 경우에 포함된 파라미터는 grant_type입니다. 이에 응답하여, Authorization Server는 Client에 Access Token을 전달합니다. 이 프로세스가 실패하면, 연결이 종료됩니다. 그런 다음 Client는 Resource Server에 보호된 리소스를 획득하도록 요청하고, Resource Server는 요청된 리소스를 Client에 전달합니다.\", \n",
    "}\n",
    "response = requests.post(\"http://localhost:8000/api/ai/diagram/seqdiagram/generate\", json=inputs)\n",
    "\n",
    "response"
   ]
  },
  {
   "cell_type": "code",
   "execution_count": 21,
   "metadata": {},
   "outputs": [
    {
     "data": {
      "text/plain": [
       "b'{\"image\":\"https://mermaid.ink/img/c2VxdWVuY2VEaWFncmFtCiAgICBwYXJ0aWNpcGFudCBDIGFzIENsaWVudAogICAgcGFydGljaXBhbnQgQVMgYXMgQXV0aG9yaXphdGlvbiBTZXJ2ZXIKICAgIHBhcnRpY2lwYW50IFJTIGFzIFJlc291cmNlIFNlcnZlcgoKICAgIE5vdGUgb3ZlciBDLCBBUzogQ2xpZW50IHJlcXVlc3RzIGFuIEFjY2VzcyBUb2tlbiB3aXRoIGdyYW50X3R5cGUKICAgIEMtPj4rQVM6IFJlcXVlc3QgQWNjZXNzIFRva2VuIHdpdGggZ3JhbnRfdHlwZQogICAgYWx0IHN1Y2Nlc3NmdWwgYXV0aG9yaXphdGlvbgogICAgICAgIEFTLS0+Pi1DOiBBY2Nlc3MgVG9rZW4KICAgICAgICBOb3RlIG92ZXIgQywgUlM6IENsaWVudCB1c2VzIEFjY2VzcyBUb2tlbiB0byByZXF1ZXN0IHJlc291cmNlcwogICAgICAgIEMtPj4rUlM6IFJlcXVlc3QgcHJvdGVjdGVkIHJlc291cmNlcyB3aXRoIEFjY2VzcyBUb2tlbgogICAgICAgIFJTLS0+Pi1DOiBEZWxpdmVyIHJlcXVlc3RlZCByZXNvdXJjZXMKICAgIGVsc2UgYXV0aG9yaXphdGlvbiBmYWlsZWQKICAgICAgICBBUy0tPj5DOiBDb25uZWN0aW9uIHRlcm1pbmF0ZWQKICAgIGVuZA==\"}'"
      ]
     },
     "execution_count": 21,
     "metadata": {},
     "output_type": "execute_result"
    }
   ],
   "source": [
    "response.content"
   ]
  }
 ],
 "metadata": {
  "kernelspec": {
   "display_name": "env",
   "language": "python",
   "name": "python3"
  },
  "language_info": {
   "codemirror_mode": {
    "name": "ipython",
    "version": 3
   },
   "file_extension": ".py",
   "mimetype": "text/x-python",
   "name": "python",
   "nbconvert_exporter": "python",
   "pygments_lexer": "ipython3",
   "version": "3.11.5"
  }
 },
 "nbformat": 4,
 "nbformat_minor": 2
}
