{
 "cells": [
  {
   "cell_type": "code",
   "execution_count": 8,
   "metadata": {},
   "outputs": [],
   "source": [
    "import requests\n",
    "from dotenv import load_dotenv\n",
    "\n",
    "load_dotenv()\n",
    "\n",
    "inputs = {\n",
    "    \"sql\": \"\"\"CREATE TABLE Persons (\n",
    "    PersonID int,\n",
    "    LastName varchar(255),\n",
    "    FirstName varchar(255),\n",
    "    Address varchar(255),\n",
    "    City varchar(255)\n",
    ");\"\"\",\n",
    "    \"framework\": \"spring boot\"\n",
    "}\n",
    "response = requests.post(\"http://localhost:8000/api/ai/sql/entity/generate\", json=inputs)"
   ]
  },
  {
   "cell_type": "code",
   "execution_count": 9,
   "metadata": {},
   "outputs": [
    {
     "data": {
      "text/plain": [
       "b'{\"result\":\"@Entity\\\\n@Table(name = \\\\\"Persons\\\\\")\\\\npublic class Persons {\\\\n    \\\\n    @Id\\\\n    @GeneratedValue(strategy = GenerationType.IDENTITY)\\\\n    @Column(name = \\\\\"PersonID\\\\\")\\\\n    private int personID;\\\\n    \\\\n    @Column(name = \\\\\"LastName\\\\\")\\\\n    private String lastName;\\\\n    \\\\n    @Column(name = \\\\\"FirstName\\\\\")\\\\n    private String firstName;\\\\n    \\\\n    @Column(name = \\\\\"Address\\\\\")\\\\n    private String address;\\\\n    \\\\n    @Column(name = \\\\\"City\\\\\")\\\\n    private String city;\\\\n    \\\\n    // Getters and setters\\\\n}\"}'"
      ]
     },
     "execution_count": 9,
     "metadata": {},
     "output_type": "execute_result"
    }
   ],
   "source": [
    "response.content"
   ]
  }
 ],
 "metadata": {
  "kernelspec": {
   "display_name": "env",
   "language": "python",
   "name": "python3"
  },
  "language_info": {
   "codemirror_mode": {
    "name": "ipython",
    "version": 3
   },
   "file_extension": ".py",
   "mimetype": "text/x-python",
   "name": "python",
   "nbconvert_exporter": "python",
   "pygments_lexer": "ipython3",
   "version": "3.11.5"
  }
 },
 "nbformat": 4,
 "nbformat_minor": 2
}
