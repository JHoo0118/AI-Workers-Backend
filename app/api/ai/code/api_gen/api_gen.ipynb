{
 "cells": [
  {
   "cell_type": "code",
   "execution_count": 14,
   "metadata": {},
   "outputs": [],
   "source": [
    "import requests\n",
    "from dotenv import load_dotenv\n",
    "\n",
    "load_dotenv()\n",
    "\n",
    "inputs = {\n",
    "  \"input\": \"Create something that stores crypto price data in a database using docker-compose\",\n",
    "  \"framework\": \"fastapi\",\n",
    "}\n",
    "response = requests.post(\"http://localhost:8000/api/ai/apigen/generate\", json=inputs)"
   ]
  },
  {
   "cell_type": "code",
   "execution_count": 13,
   "metadata": {},
   "outputs": [
    {
     "data": {
      "text/plain": [
       "b'{\"backend_code\":\"```python\\\\n# main.py\\\\nfrom fastapi import FastAPI, HTTPException\\\\nfrom pydantic import BaseModel\\\\nimport uvicorn\\\\nfrom typing import List, Optional\\\\nfrom fastapi.middleware.cors import CORSMiddleware\\\\nfrom database import SessionLocal, engine\\\\nimport models\\\\nfrom sqlalchemy.orm import Session\\\\n\\\\napp = FastAPI()\\\\n\\\\n# CORS\\\\norigins = [\\\\\"*\\\\\"]\\\\napp.add_middleware(\\\\n    CORSMiddleware,\\\\n    allow_origins=origins,\\\\n    allow_credentials=True,\\\\n    allow_methods=[\\\\\"*\\\\\"],\\\\n    allow_headers=[\\\\\"*\\\\\"],\\\\n)\\\\n\\\\n# Database Models\\\\nmodels.Base.metadata.create_all(bind=engine)\\\\n\\\\n# Pydantic Models\\\\nclass CryptoPrice(BaseModel):\\\\n    id: Optional[int] = None\\\\n    name: str\\\\n    price: float\\\\n\\\\n# Dependency\\\\ndef get_db():\\\\n    db = SessionLocal()\\\\n    try:\\\\n        yield db\\\\n    finally:\\\\n        db.close()\\\\n\\\\n# CRUD Operations\\\\n@app.post(\\\\\"/crypto/\\\\\", response_model=CryptoPrice)\\\\ndef create_crypto_price(crypto_price: CryptoPrice, db: Session = Depends(get_db)):\\\\n    db_crypto_price = models.CryptoPrice(name=crypto_price.name, price=crypto_price.price)\\\\n    db.add(db_crypto_price)\\\\n    db.commit()\\\\n    db.refresh(db_crypto_price)\\\\n    return db_crypto_price\\\\n\\\\n@app.get(\\\\\"/crypto/\\\\\", response_model=List[CryptoPrice])\\\\ndef read_crypto_prices(skip: int = 0, limit: int = 100, db: Session = Depends(get_db)):\\\\n    crypto_prices = db.query(models.CryptoPrice).offset(skip).limit(limit).all()\\\\n    return crypto_prices\\\\n\\\\n@app.get(\\\\\"/crypto/{crypto_id}\\\\\", response_model=CryptoPrice)\\\\ndef read_crypto_price(crypto_id: int, db: Session = Depends(get_db)):\\\\n    crypto_price = db.query(models.CryptoPrice).filter(models.CryptoPrice.id == crypto_id).first()\\\\n    if crypto_price is None:\\\\n        raise HTTPException(status_code=404, detail=\\\\\"Crypto price not found\\\\\")\\\\n    return crypto_price\\\\n\\\\n@app.put(\\\\\"/crypto/{crypto_id}\\\\\", response_model=CryptoPrice)\\\\ndef update_crypto_price(crypto_id: int, crypto_price: CryptoPrice, db: Session = Depends(get_db)):\\\\n    db_crypto_price = db.query(models.CryptoPrice).filter(models.CryptoPrice.id == crypto_id).first()\\\\n    if db_crypto_price is None:\\\\n        raise HTTPException(status_code=404, detail=\\\\\"Crypto price not found\\\\\")\\\\n    db_crypto_price.name = crypto_price.name\\\\n    db_crypto_price.price = crypto_price.price\\\\n    db.commit()\\\\n    db.refresh(db_crypto_price)\\\\n    return db_crypto_price\\\\n\\\\n@app.delete(\\\\\"/crypto/{crypto_id}\\\\\", response_model=CryptoPrice)\\\\ndef delete_crypto_price(crypto_id: int, db: Session = Depends(get_db)):\\\\n    db_crypto_price = db.query(models.CryptoPrice).filter(models.CryptoPrice.id == crypto_id).first()\\\\n    if db_crypto_price is None:\\\\n        raise HTTPException(status_code=404, detail=\\\\\"Crypto price not found\\\\\")\\\\n    db.delete(db_crypto_price)\\\\n    db.commit()\\\\n    return db_crypto_price\\\\n\\\\n# External API Integration (Example)\\\\n@app.get(\\\\\"/fetch_external_crypto_price/\\\\\")\\\\ndef fetch_external_crypto_price():\\\\n    # This function should contain logic to fetch crypto prices from an external API\\\\n    pass\\\\n\\\\nif __name__ == \\\\\"__main__\\\\\":\\\\n    uvicorn.run(app, host=\\\\\"0.0.0.0\\\\\", port=8000)\\\\n```\\\\n\\\\n```python\\\\n# models.py\\\\nfrom sqlalchemy import Column, Integer, String, Float\\\\nfrom database import Base\\\\n\\\\nclass CryptoPrice(Base):\\\\n    __tablename__ = \\\\\"crypto_prices\\\\\"\\\\n\\\\n    id = Column(Integer, primary_key=True, index=True)\\\\n    name = Column(String, index=True)\\\\n    price = Column(Float)\\\\n```\\\\n\\\\n```python\\\\n# database.py\\\\nfrom sqlalchemy import create_engine\\\\nfrom sqlalchemy.ext.declarative import declarative_base\\\\nfrom sqlalchemy.orm import sessionmaker\\\\n\\\\nSQLALCHEMY_DATABASE_URL = \\\\\"sqlite:///./test.db\\\\\"\\\\n\\\\nengine = create_engine(\\\\n    SQLALCHEMY_DATABASE_URL, connect_args={\\\\\"check_same_thread\\\\\": False}\\\\n)\\\\nSessionLocal = sessionmaker(autocommit=False, autoflush=False, bind=engine)\\\\n\\\\nBase = declarative_base()\\\\n```\"}'"
      ]
     },
     "execution_count": 13,
     "metadata": {},
     "output_type": "execute_result"
    }
   ],
   "source": [
    "response.content"
   ]
  }
 ],
 "metadata": {
  "kernelspec": {
   "display_name": "env",
   "language": "python",
   "name": "python3"
  },
  "language_info": {
   "codemirror_mode": {
    "name": "ipython",
    "version": 3
   },
   "file_extension": ".py",
   "mimetype": "text/x-python",
   "name": "python",
   "nbconvert_exporter": "python",
   "pygments_lexer": "ipython3",
   "version": "3.11.5"
  }
 },
 "nbformat": 4,
 "nbformat_minor": 2
}
