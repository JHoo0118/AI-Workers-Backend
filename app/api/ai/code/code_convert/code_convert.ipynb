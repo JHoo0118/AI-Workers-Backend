{
 "cells": [
  {
   "cell_type": "code",
   "execution_count": 1,
   "metadata": {},
   "outputs": [],
   "source": [
    "import requests\n",
    "from dotenv import load_dotenv\n",
    "\n",
    "load_dotenv()\n",
    "\n",
    "inputs = {\n",
    "  \"code\": \"\"\"# Program to perform different set operations like in mathematics\n",
    "\n",
    "# define three sets\n",
    "E = {0, 2, 4, 6, 8};\n",
    "N = {1, 2, 3, 4, 5};\n",
    "\n",
    "# set union\n",
    "print(\"Union of E and N is\",E | N)\n",
    "\n",
    "# set intersection\n",
    "print(\"Intersection of E and N is\",E & N)\n",
    "\n",
    "# set difference\n",
    "print(\"Difference of E and N is\",E - N)\n",
    "\n",
    "# set symmetric difference\n",
    "print(\"Symmetric difference of E and N is\",E ^ N)\"\"\",\n",
    "  \"code_type\": \"python\",\n",
    "  \"target_code_type\": \"java\",\n",
    "}\n",
    "response = requests.post(\"http://localhost:8000/api/ai/codeconvert/generate\", json=inputs)"
   ]
  },
  {
   "cell_type": "code",
   "execution_count": 2,
   "metadata": {},
   "outputs": [
    {
     "data": {
      "text/plain": [
       "b'{\"result\":\"```java\\\\nimport java.util.HashSet;\\\\nimport java.util.Set;\\\\n\\\\npublic class SetOperations {\\\\n    public static void main(String[] args) {\\\\n        // define three sets\\\\n        Set<Integer> E = new HashSet<>();\\\\n        E.add(0);\\\\n        E.add(2);\\\\n        E.add(4);\\\\n        E.add(6);\\\\n        E.add(8);\\\\n\\\\n        Set<Integer> N = new HashSet<>();\\\\n        N.add(1);\\\\n        N.add(2);\\\\n        N.add(3);\\\\n        N.add(4);\\\\n        N.add(5);\\\\n\\\\n        // set union\\\\n        Set<Integer> union = new HashSet<>(E);\\\\n        union.addAll(N);\\\\n        System.out.println(\\\\\"Union of E and N is \\\\\" + union);\\\\n\\\\n        // set intersection\\\\n        Set<Integer> intersection = new HashSet<>(E);\\\\n        intersection.retainAll(N);\\\\n        System.out.println(\\\\\"Intersection of E and N is \\\\\" + intersection);\\\\n\\\\n        // set difference\\\\n        Set<Integer> difference = new HashSet<>(E);\\\\n        difference.removeAll(N);\\\\n        System.out.println(\\\\\"Difference of E and N is \\\\\" + difference);\\\\n\\\\n        // set symmetric difference\\\\n        Set<Integer> symmetricDifference = new HashSet<>(E);\\\\n        symmetricDifference.addAll(N);\\\\n        Set<Integer> tmp = new HashSet<>(E);\\\\n        tmp.retainAll(N);\\\\n        symmetricDifference.removeAll(tmp);\\\\n        System.out.println(\\\\\"Symmetric difference of E and N is \\\\\" + symmetricDifference);\\\\n    }\\\\n}\\\\n```\"}'"
      ]
     },
     "execution_count": 2,
     "metadata": {},
     "output_type": "execute_result"
    }
   ],
   "source": [
    "response.content"
   ]
  }
 ],
 "metadata": {
  "kernelspec": {
   "display_name": "env",
   "language": "python",
   "name": "python3"
  },
  "language_info": {
   "codemirror_mode": {
    "name": "ipython",
    "version": 3
   },
   "file_extension": ".py",
   "mimetype": "text/x-python",
   "name": "python",
   "nbconvert_exporter": "python",
   "pygments_lexer": "ipython3",
   "version": "3.11.5"
  }
 },
 "nbformat": 4,
 "nbformat_minor": 2
}
