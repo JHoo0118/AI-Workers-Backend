{
 "cells": [
  {
   "cell_type": "code",
   "execution_count": 7,
   "metadata": {},
   "outputs": [
    {
     "data": {
      "text/plain": [
       "True"
      ]
     },
     "execution_count": 7,
     "metadata": {},
     "output_type": "execute_result"
    }
   ],
   "source": [
    "from dotenv import load_dotenv\n",
    "\n",
    "# 토큰 정보 로드\n",
    "load_dotenv()"
   ]
  },
  {
   "cell_type": "code",
   "execution_count": 8,
   "metadata": {},
   "outputs": [],
   "source": [
    "from langchain.prompts import PromptTemplate\n",
    "from langchain_openai import ChatOpenAI\n",
    "from langchain_community.chat_models import ChatOllama\n",
    "from langchain_core.output_parsers import StrOutputParser\n",
    "\n",
    "prompt = PromptTemplate(\n",
    "  template=\"\"\"For algorithm problems or specific situations, here's a structured approach to advising on algorithms and solving examples:\n",
    "\n",
    "  Use the following language to solve the problem: {lang}\n",
    "  user input is: {user_input}\n",
    "\n",
    "1. **Understand the Problem:** Clearly define and understand the problem statement. Identify the inputs, outputs, and any constraints or special conditions.\n",
    "2. **Choose the Appropriate Algorithm:** Based on the problem type, complexity, and constraints, select an algorithm or data structure that best fits. Consider time and space complexity, scalability, and the nature of the data.\n",
    "3. **Outline the Algorithm:** Provide a step-by-step description of how the algorithm works. This might include initializing variables, loops, conditionals, recursive calls, or the use of specific data structures.\n",
    "4. **Implement the Algorithm:** Write pseudocode or actual code that implements the algorithm. Ensure the code is clean, understandable, and well-commented.\n",
    "5. **Test with Examples:** Use example inputs to test the algorithm. Include a variety of cases such as the general case, edge cases, and cases that test the limits of the algorithm.\n",
    "6. **Optimize and Refine:** Review the algorithm for potential optimizations. Consider edge cases or inputs that could cause the algorithm to fail or perform inefficiently and refine accordingly.\n",
    "7. **Discuss Time and Space Complexity:** Analyze and discuss the time and space complexity of the algorithm. Explain how the algorithm scales with the size of the input and any trade-offs made during the algorithm selection process.\n",
    "\n",
    "Example Problem: Given an array of integers, return the indices of the two numbers such that they add up to a specific target.\n",
    "\n",
    "1. Understand the Problem:\n",
    "   - Input: An array of integers, and a target integer.\n",
    "   - Output: Indices of the two numbers that add up to the target.\n",
    "2. Choose the Appropriate Algorithm:\n",
    "   - A hash table can be used for efficient lookups to check for the existence of the complement (target - current number).\n",
    "3. Outline the Algorithm:\n",
    "   - Initialize an empty hash table.\n",
    "   - Iterate through the array:\n",
    "     - For each element, check if the complement (target - element) exists in the hash table.\n",
    "     - If it does, return the current index and the index of the complement from the hash table.\n",
    "     - If it does not, add the current element and its index to the hash table.\n",
    "4. Implement the Algorithm:\n",
    "```\n",
    "function twoSum(nums, target) {{\n",
    "  let map = new Map();\n",
    "  for (let i = 0; i < nums.length; i++) {{\n",
    "    let complement = target - nums[i];\n",
    "    if (map.has(complement)) {{\n",
    "      return [map.get(complement), i];\n",
    "    }}\n",
    "    map.set(nums[i], i);\n",
    "  }}\n",
    "  return null;\n",
    "}}\n",
    "```\n",
    "\n",
    "5. Test with Examples:\n",
    "- Input: nums = [2, 7, 11, 15], target = 9\n",
    "- Output: [0, 1] (Because nums[0] + nums[1] = 2 + 7 = 9)\n",
    "\n",
    "6. Optimize and Refine:\n",
    "- The current solution is efficient and handles all cases with a single pass through the array.\n",
    "\n",
    "7. Discuss Time and Space Complexity:\n",
    "- Time Complexity: O(n), where n is the number of elements in the array.\n",
    "- Space Complexity: O(n), due to the additional hash table.\n",
    "\n",
    "  IMPORATNT: You should generate all logics details\n",
    "  \"\"\",\n",
    "  input_variables=[\"user_input\", \"lang\"],\n",
    ")\n",
    "\n",
    "# LLM\n",
    "# llm = ChatOpenAI(model_name=\"gpt-4-0125-preview\", temperature=0)\n",
    "llm = ChatOpenAI(model_name=\"gpt-4-0125-preview\", temperature=0)\n",
    "\n",
    "# Chain\n",
    "rag_chain = prompt | llm | StrOutputParser()\n",
    "\n",
    "# Run\n",
    "result = rag_chain.invoke({\"user_input\": \"I want to implement navigation for car\", \"lang\": \"python\"})\n"
   ]
  },
  {
   "cell_type": "code",
   "execution_count": 9,
   "metadata": {},
   "outputs": [
    {
     "data": {
      "text/plain": [
       "'Given the user input \"I want to implement navigation for car\", let\\'s follow the structured approach to devise a solution.\\n\\n### 1. Understand the Problem:\\n- **Input:** A set of waypoints or destinations (latitude and longitude), starting point, and ending point.\\n- **Output:** A list of directions or waypoints for the car to follow from the starting point to the destination.\\n- **Constraints:** Optimize for the shortest or fastest route. Consider real-world constraints like road networks, traffic, and legal driving directions.\\n\\n### 2. Choose the Appropriate Algorithm:\\nFor implementing navigation, the **A* search algorithm** is a good choice due to its efficiency and ability to find the shortest path quickly. It combines features of uniform-cost search and pure heuristic search to efficiently compute optimal paths.\\n\\n### 3. Outline the Algorithm:\\n- Initialize the open list (priority queue) with the starting node.\\n- Initialize the closed list (set) to keep track of visited nodes.\\n- While the open list is not empty:\\n  - Remove the node with the lowest f(x) = g(x) + h(x) from the open list, where g(x) is the cost from the start node to the current node, and h(x) is the heuristic estimated cost from the current node to the end node.\\n  - If the removed node is the goal, reconstruct and return the path.\\n  - For each neighbor of the current node:\\n    - If the neighbor is in the closed list, skip it.\\n    - If the neighbor is not in the open list, add it. Otherwise, if the new path to the neighbor is shorter, update its cost and parent.\\n  - Add the current node to the closed list.\\n\\n### 4. Implement the Algorithm:\\nHere\\'s a simplified Python implementation focusing on the structure rather than the complete navigation logic:\\n\\n```python\\nclass Node:\\n    def __init__(self, position, parent=None):\\n        self.position = position\\n        self.parent = parent\\n        self.g = 0\\n        self.h = 0\\n        self.f = 0\\n\\ndef astar(start, end, map):\\n    open_list = []\\n    closed_list = set()\\n    \\n    start_node = Node(start, None)\\n    end_node = Node(end, None)\\n    \\n    open_list.append(start_node)\\n    \\n    while len(open_list) > 0:\\n        current_node = min(open_list, key=lambda node: node.f)\\n        open_list.remove(current_node)\\n        closed_list.add(current_node.position)\\n        \\n        if current_node.position == end_node.position:\\n            path = []\\n            while current_node is not None:\\n                path.append(current_node.position)\\n                current_node = current_node.parent\\n            return path[::-1]\\n        \\n        neighbors = map.get_neighbors(current_node.position)\\n        for next in neighbors:\\n            if next in closed_list:\\n                continue\\n            node = Node(next, current_node)\\n            node.g = current_node.g + map.cost(current_node.position, node.position)\\n            node.h = heuristic(node.position, end_node.position)\\n            node.f = node.g + node.h\\n            \\n            if add_to_open(open_list, node):\\n                open_list.append(node)\\n    \\n    return None\\n\\ndef heuristic(position, end_position):\\n    # Implement heuristic based on the problem, e.g., Euclidean distance, Manhattan distance, etc.\\n    pass\\n\\ndef add_to_open(open_list, neighbor):\\n    for node in open_list:\\n        if neighbor.position == node.position and neighbor.g >= node.g:\\n            return False\\n    return True\\n```\\n\\n### 5. Test with Examples:\\nDue to the complexity of real-world navigation, testing would involve using a map data structure that knows about all the waypoints and their connections. This example abstracts those details.\\n\\n### 6. Optimize and Refine:\\n- Implement efficient data structures for the open and closed lists.\\n- Refine the heuristic function to better estimate costs in a real-world scenario, considering traffic, road types, etc.\\n\\n### 7. Discuss Time and Space Complexity:\\n- **Time Complexity:** Depends on the heuristic\\'s accuracy and the map\\'s complexity. In the worst case, it\\'s O(b^d), where b is the branching factor and d is the depth of the shortest path.\\n- **Space Complexity:** O(n), where n is the number of nodes in the path. The space needed to store the open and closed lists can grow significantly with the map size and path complexity.'"
      ]
     },
     "execution_count": 9,
     "metadata": {},
     "output_type": "execute_result"
    }
   ],
   "source": [
    "result"
   ]
  }
 ],
 "metadata": {
  "kernelspec": {
   "display_name": "env",
   "language": "python",
   "name": "python3"
  },
  "language_info": {
   "codemirror_mode": {
    "name": "ipython",
    "version": 3
   },
   "file_extension": ".py",
   "mimetype": "text/x-python",
   "name": "python",
   "nbconvert_exporter": "python",
   "pygments_lexer": "ipython3",
   "version": "3.11.5"
  }
 },
 "nbformat": 4,
 "nbformat_minor": 2
}
