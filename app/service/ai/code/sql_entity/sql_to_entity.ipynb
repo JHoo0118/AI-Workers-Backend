{
 "cells": [
  {
   "cell_type": "code",
   "execution_count": 10,
   "metadata": {},
   "outputs": [
    {
     "data": {
      "text/plain": [
       "True"
      ]
     },
     "execution_count": 10,
     "metadata": {},
     "output_type": "execute_result"
    }
   ],
   "source": [
    "from dotenv import load_dotenv\n",
    "\n",
    "# 토큰 정보 로드\n",
    "load_dotenv()"
   ]
  },
  {
   "cell_type": "code",
   "execution_count": 11,
   "metadata": {},
   "outputs": [],
   "source": [
    "from langchain.prompts import PromptTemplate\n",
    "from langchain_openai import ChatOpenAI\n",
    "from langchain_community.chat_models import ChatOllama\n",
    "from langchain_core.output_parsers import StrOutputParser\n",
    "\n",
    "prompt = PromptTemplate(\n",
    "  template=\"\"\"The AI model is tasked with generating entity code for a specific framework based on the SQL code provided by the user. This task involves parsing the SQL code to extract schema information, such as table names, column details (names, data types, constraints), and relationships between tables. The model will then use this information to create entity classes or models in the framework specified by the user, aligning with the framework's conventions for object-relational mapping (ORM).\n",
    "\n",
    "  sql is: {sql}\n",
    "  framework is: {framework} \n",
    "  \n",
    "  The prompt instructs the model to:\n",
    "  1. **Parse SQL Code**: Analyze the given SQL code to identify key components of the database schema. This includes extracting information about tables, columns (with data types and constraints like primary keys, foreign keys, unique, not null), and any defined relationships or indexes.\n",
    "  2. **Framework Identification**: Identify the framework specified by the user (e.g., Django for Python, Hibernate for Java, Entity Framework for .NET) to determine the appropriate syntax and conventions for generating entity code.\n",
    "  3. **Generate Entity Code**: Based on the extracted schema information and the identified framework, generate the code for entities or models that represent the database tables. This code should include:\n",
    "    - Class definitions for each table with properties or fields corresponding to the table columns.\n",
    "    - Annotations or decorators to specify primary keys, relationships (one-to-many, many-to-one, many-to-many), column constraints, and any framework-specific configurations.\n",
    "    - Necessary imports or using statements required by the framework for ORM functionality.\n",
    "  4. **Ensure Compatibility and Conventions**: Make sure that the generated entity code adheres to the best practices and conventions of the specified framework, including naming conventions, data type mappings, and relationship handling.\n",
    "  5. **Comment and Documentation**: Include inline comments or documentation within the generated code to explain the purpose and structure of each entity, especially highlighting any non-trivial mappings or relationship configurations.\n",
    "  6. make getter, setter and build method.\n",
    "\n",
    "  Self Evaluation:\n",
    "  - After generating the entity code, the model should review the code for accuracy in representing the original SQL schema, ensuring all tables and columns are correctly mapped to entities and fields.\n",
    "  - Verify that the code follows the specific conventions and requirements of the chosen framework, including correct data type mappings and relationship annotations.\n",
    "  - Assess the readability and maintainability of the generated code, ensuring that it is well-organized and documented for future development and integration into the larger project.\n",
    "\n",
    "  This prompt ensures that the model focuses on accurately converting SQL schema definitions into framework-specific entity code, facilitating database interactions within the application through ORM techniques.\n",
    "\n",
    "  IMPORATNT: Print ONLY the code, nothing else.\n",
    "  \"\"\",\n",
    "  input_variables=[\"sql\", \"framework\"],\n",
    ")\n",
    "\n",
    "# LLM\n",
    "# llm = ChatOpenAI(model_name=\"gpt-4-0125-preview\", temperature=0)\n",
    "llm = ChatOllama(model=\"mistral:latest\")\n",
    "\n",
    "# Chain\n",
    "rag_chain = prompt | llm | StrOutputParser()\n",
    "\n",
    "# Run\n",
    "result = rag_chain.invoke({\"sql\": \"\"\"CREATE TABLE Books\n",
    "(\n",
    "Id INT PRIMARY KEY IDENTITY(1,1),\n",
    "Name VARCHAR (50) NOT NULL,\n",
    "Price INT,\n",
    "CategoryId INT, \n",
    "AuthorId INT\n",
    ");\n",
    "CREATE TABLE Categories\n",
    "(\n",
    "Id INT PRIMARY KEY,\n",
    "Name VARCHAR (50) NOT NULL,\n",
    ");\n",
    "CREATE TABLE Authors\n",
    "(\n",
    "Id INT PRIMARY KEY,\n",
    "Name VARCHAR (50) NOT NULL,\n",
    ");\n",
    "\"\"\", \"framework\": \"go\",})\n"
   ]
  },
  {
   "cell_type": "code",
   "execution_count": 12,
   "metadata": {},
   "outputs": [
    {
     "data": {
      "text/plain": [
       "' package main\\n\\nimport (\\n\\t\"github.com/jmoiraud/gorm\"\\n)\\n\\ntype Category struct {\\n\\tID          int    `gorm:\"primaryKey;auto_increment\" json:\"id\"`\\n\\tName        string `gorm:\"size:50;not null\" json:\"name\"`\\n\\tBooks       []Book `gorm:\"foreignKey:CategoryId;associationForeignKey:FkCategoryID\" json:\"books\"`\\n}\\n\\ntype Author struct {\\n\\tID          int    `gorm:\"primaryKey;auto_increment\" json:\"id\"`\\n\\tName        string `gorm:\"size:50;not null\" json:\"name\"`\\n\\tBooks       []Book `gorm:\"foreignKey:AuthorId;associationForeignKey:FkAuthorID\" json:\"books\"`\\n}\\n\\ntype Book struct {\\n\\tID            int    `gorm:\"primaryKey;auto_increment\" json:\"id\"`\\n\\tName          string `gorm:\"size:50;not null\" json:\"name\"`\\n\\tPrice         int    `json:\"price\"`\\n\\tCategoryId     int    `gorm:\"not null\" json:\"category_id\"` // This is different from the SQL code, as Go uses snake case for field names\\n\\tCategory       Category\\n\\tAuthorID       int    `gorm:\"not null\" json:\"author_id\"`\\n\\tAuthor         Author\\n}\\n\\nfunc main() {\\n\\tdb, err := gorm.Open(\"postgres\", \"host=localhost user=user dbname=database password=password sslmode=disable\")\\n\\tif err != nil {\\n\\t\\tpanic(err)\\n\\t}\\n\\tdefer db.Close()\\n\\n\\t// Migrate the schema\\n\\tdb.AutoMigrate(&Category{}, &Author{}, &Book{})\\n\\n\\t// Use database interaction with ORM techniques\\n}'"
      ]
     },
     "execution_count": 12,
     "metadata": {},
     "output_type": "execute_result"
    }
   ],
   "source": [
    "result"
   ]
  }
 ],
 "metadata": {
  "kernelspec": {
   "display_name": "env",
   "language": "python",
   "name": "python3"
  },
  "language_info": {
   "codemirror_mode": {
    "name": "ipython",
    "version": 3
   },
   "file_extension": ".py",
   "mimetype": "text/x-python",
   "name": "python",
   "nbconvert_exporter": "python",
   "pygments_lexer": "ipython3",
   "version": "3.11.7"
  }
 },
 "nbformat": 4,
 "nbformat_minor": 2
}
