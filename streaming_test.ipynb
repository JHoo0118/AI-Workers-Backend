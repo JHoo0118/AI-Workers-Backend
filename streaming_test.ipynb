{
 "cells": [
  {
   "cell_type": "code",
   "execution_count": 4,
   "metadata": {},
   "outputs": [
    {
     "name": "stdout",
     "output_type": "stream",
     "text": [
      "b'{\"message\": \"Hello World\"}' \n",
      " b'newline' \n",
      " b'' \n",
      " b'{\"message\": \"Hello World\"}' \n",
      " b'newline' \n",
      " b'' \n",
      " b'{\"message\": \"Hello World\"}' \n",
      " b'newline' \n",
      " b'' \n",
      " b'{\"message\": \"Hello World\"}' \n",
      " b'newline' \n",
      " b'' \n",
      " b'{\"message\": \"Hello World\"}' \n",
      " b'newline' \n",
      " b'' \n",
      " b'{\"message\": \"Hello World\"}' \n",
      " b'newline' \n",
      " b'' \n",
      " b'{\"message\": \"Hello World\"}' \n",
      " b'newline' \n",
      " b'' \n",
      " b'{\"message\": \"Hello World\"}' \n",
      " b'newline' \n",
      " b'' \n",
      " b'{\"message\": \"Hello World\"}' \n",
      " b'newline' \n",
      " b'' \n",
      " b'{\"message\": \"Hello World\"}' \n",
      " b'newline' \n",
      " b'' \n",
      " "
     ]
    }
   ],
   "source": [
    "import requests\n",
    "from dotenv import load_dotenv\n",
    "\n",
    "load_dotenv()\n",
    "\n",
    "inputs = {\n",
    "  \"messages\": [\n",
    "    {\n",
    "      \"role\": \"assistant\",\n",
    "      \"content\": \"만기에 대해 자세히 설명?\"\n",
    "    }\n",
    "  ]\n",
    "}\n",
    "response = requests.post(\"http://localhost:8000/api/ai/docs/ask/[청년내일채움공제]+만기신청+매뉴얼.pdf\", json=inputs, stream=True)\n",
    "\n",
    "for chunk in response.iter_lines(decode_unicode='utf-8'):\n",
    "    print(chunk, end=\" \\r\\n \")"
   ]
  },
  {
   "cell_type": "code",
   "execution_count": 20,
   "metadata": {},
   "outputs": [
    {
     "data": {
      "text/plain": [
       "{'date': 'Sat, 17 Feb 2024 03:56:55 GMT', 'connection': 'Keep-Alive', 'content-type': 'text/event-stream; charset=utf-8', 'x-api-request-id': '60e7d80e-08f6-4768-8d7d-8f3e1b38bb85', 'Transfer-Encoding': 'chunked'}"
      ]
     },
     "execution_count": 20,
     "metadata": {},
     "output_type": "execute_result"
    }
   ],
   "source": [
    "response.headers"
   ]
  },
  {
   "cell_type": "code",
   "execution_count": null,
   "metadata": {},
   "outputs": [],
   "source": [
    "response.content"
   ]
  }
 ],
 "metadata": {
  "kernelspec": {
   "display_name": "env",
   "language": "python",
   "name": "python3"
  },
  "language_info": {
   "codemirror_mode": {
    "name": "ipython",
    "version": 3
   },
   "file_extension": ".py",
   "mimetype": "text/x-python",
   "name": "python",
   "nbconvert_exporter": "python",
   "pygments_lexer": "ipython3",
   "version": "3.11.5"
  }
 },
 "nbformat": 4,
 "nbformat_minor": 2
}
